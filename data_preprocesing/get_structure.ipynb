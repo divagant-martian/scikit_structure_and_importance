{
 "cells": [
  {
   "cell_type": "markdown",
   "metadata": {},
   "source": [
    "# Estructura"
   ]
  },
  {
   "cell_type": "code",
   "execution_count": 62,
   "metadata": {
    "collapsed": true
   },
   "outputs": [],
   "source": [
    "from os import listdir\n",
    "from os.path import join, dirname, basename, isdir\n",
    "import pandas as pd"
   ]
  },
  {
   "cell_type": "code",
   "execution_count": 75,
   "metadata": {
    "collapsed": true
   },
   "outputs": [],
   "source": [
    "path = '../../scikit-learn-master/sklearn'"
   ]
  },
  {
   "cell_type": "code",
   "execution_count": 76,
   "metadata": {
    "collapsed": true
   },
   "outputs": [],
   "source": [
    "from collections import deque"
   ]
  },
  {
   "cell_type": "code",
   "execution_count": 124,
   "metadata": {},
   "outputs": [],
   "source": [
    "q = deque()\n",
    "q.append(path)\n",
    "\n",
    "d = dict()\n",
    "while q:\n",
    "    current = q.pop()\n",
    "    name = basename(current)\n",
    "    selfd = {\n",
    "        'isdir': isdir(current), \n",
    "        'parent': dirname(current), \n",
    "        'name': name,\n",
    "        'ispy': current.endswith('.py')\n",
    "    }\n",
    "    if isdir(current):\n",
    "        children = [join(current, f) for f in listdir(current)]\n",
    "        q.extend(children)\n",
    "        selfd['children'] = children\n",
    "    else:\n",
    "        selfd['children'] = None\n",
    "    d[current] = selfd"
   ]
  },
  {
   "cell_type": "code",
   "execution_count": 125,
   "metadata": {},
   "outputs": [],
   "source": [
    "df = pd.DataFrame.from_dict(d, orient='index')\n",
    "df.index.name = 'fullpath'"
   ]
  },
  {
   "cell_type": "code",
   "execution_count": 126,
   "metadata": {},
   "outputs": [],
   "source": [
    "df.to_csv('sklearn_structure.csv')"
   ]
  },
  {
   "cell_type": "code",
   "execution_count": 127,
   "metadata": {
    "collapsed": true
   },
   "outputs": [],
   "source": [
    "df.to_pickle('sklearn_structure.pkl')"
   ]
  },
  {
   "cell_type": "code",
   "execution_count": 135,
   "metadata": {
    "collapsed": true
   },
   "outputs": [],
   "source": [
    "def make_tree(fullpath):\n",
    "    info = df.loc[fullpath]\n",
    "    tree = info[['name', 'ispy']].to_dict()\n",
    "    tree['name'] = info['name']\n",
    "    if info['children']:\n",
    "        tree['children'] = [make_tree(c) for c in info['children']]\n",
    "    return tree"
   ]
  },
  {
   "cell_type": "markdown",
   "metadata": {},
   "source": [
    "# Importancia de nodos"
   ]
  },
  {
   "cell_type": "code",
   "execution_count": 137,
   "metadata": {},
   "outputs": [],
   "source": [
    "files = df[df.ispy].copy()"
   ]
  },
  {
   "cell_type": "code",
   "execution_count": 138,
   "metadata": {
    "collapsed": true
   },
   "outputs": [],
   "source": [
    "def is_import_line(line):\n",
    "    line = line.strip()\n",
    "    return line.startswith('import ') or line.startswith('from ')"
   ]
  },
  {
   "cell_type": "code",
   "execution_count": 150,
   "metadata": {
    "collapsed": true
   },
   "outputs": [],
   "source": [
    "def get_imports(fullpath):\n",
    "    return list(filter(is_import_line, open(fullpath).read().splitlines()))"
   ]
  },
  {
   "cell_type": "code",
   "execution_count": 151,
   "metadata": {},
   "outputs": [],
   "source": [
    "imports = files[[]].reset_index()['fullpath'].apply(get_imports)"
   ]
  },
  {
   "cell_type": "code",
   "execution_count": null,
   "metadata": {
    "collapsed": true
   },
   "outputs": [],
   "source": []
  }
 ],
 "metadata": {
  "kernelspec": {
   "display_name": "Python 3",
   "language": "python",
   "name": "python3"
  },
  "language_info": {
   "codemirror_mode": {
    "name": "ipython",
    "version": 3
   },
   "file_extension": ".py",
   "mimetype": "text/x-python",
   "name": "python",
   "nbconvert_exporter": "python",
   "pygments_lexer": "ipython3",
   "version": "3.6.3"
  }
 },
 "nbformat": 4,
 "nbformat_minor": 2
}
